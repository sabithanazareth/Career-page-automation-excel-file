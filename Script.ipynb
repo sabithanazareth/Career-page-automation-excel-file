{
 "cells": [
  {
   "cell_type": "code",
   "execution_count": 10,
   "id": "a47c966a",
   "metadata": {},
   "outputs": [
    {
     "name": "stdout",
     "output_type": "stream",
     "text": [
      "           Company  Career Page  Referral   Person  Applied Status\n",
      "0    Goldman Sachs          NaN        NaN     NaN             NaN\n",
      "1   Morgan Stanley          NaN        NaN     NaN             NaN\n",
      "2        JP Morgan          NaN        NaN     NaN             NaN\n",
      "3  Bank of America          NaN        NaN     NaN             NaN\n",
      "4         Barclays          NaN        NaN     NaN             NaN\n"
     ]
    }
   ],
   "source": [
    "import pandas as pd\n",
    "\n",
    "# Read the Excel file\n",
    "df = pd.read_excel('Internship.xlsx')\n",
    "\n",
    "# Example: Print the contents of the Excel file\n",
    "print(df.head())"
   ]
  },
  {
   "cell_type": "code",
   "execution_count": 14,
   "id": "f2408ae9",
   "metadata": {},
   "outputs": [],
   "source": [
    "import subprocess\n",
    "import googlesearch\n",
    "\n",
    "import openpyxl\n",
    "\n",
    "# Load the Excel file\n",
    "workbook = openpyxl.load_workbook('Internship.xlsx')\n",
    "\n",
    "# Select the desired worksheet\n",
    "worksheet = workbook['Sheet1']\n",
    "\n",
    "# Define the column where you want to paste the result\n",
    "column = 'B'  # Change it to the desired column letter\n",
    "\n",
    "# Define the row where you want to paste the result\n",
    "row = 2\n",
    "\n",
    "# Get the values in the 'Company' column\n",
    "companies = df['Company'].tolist()\n",
    "\n",
    "# Iterate over each company\n",
    "for company in companies:\n",
    "\n",
    "    # Remove spaces\n",
    "    company_name = company.replace(\" \", \"\")\n",
    "    query = f\"{company_name}careers\"\n",
    "    \n",
    "    \n",
    "    search_results = googlesearch.search(query, num=1)\n",
    "    \n",
    "    # Extract the first result from the search results\n",
    "    first_result = next(search_results, None)\n",
    "    \n",
    "    \n",
    "    # Assign the result value to the corresponding cell\n",
    "    cell = f'{column}{row}'\n",
    "    worksheet[cell].hyperlink = first_result\n",
    "    worksheet[cell].value = first_result\n",
    "    row = row + 1\n",
    "    \n",
    "    \n",
    "workbook.save('Final.xlsx')\n",
    "    "
   ]
  },
  {
   "cell_type": "code",
   "execution_count": null,
   "id": "487619d4",
   "metadata": {},
   "outputs": [],
   "source": []
  }
 ],
 "metadata": {
  "kernelspec": {
   "display_name": "Python 3 (ipykernel)",
   "language": "python",
   "name": "python3"
  },
  "language_info": {
   "codemirror_mode": {
    "name": "ipython",
    "version": 3
   },
   "file_extension": ".py",
   "mimetype": "text/x-python",
   "name": "python",
   "nbconvert_exporter": "python",
   "pygments_lexer": "ipython3",
   "version": "3.9.12"
  }
 },
 "nbformat": 4,
 "nbformat_minor": 5
}
